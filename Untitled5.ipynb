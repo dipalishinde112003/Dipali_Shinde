{
  "nbformat": 4,
  "nbformat_minor": 0,
  "metadata": {
    "colab": {
      "provenance": [],
      "authorship_tag": "ABX9TyPa+p+50mpZbfg7OoyrExOv",
      "include_colab_link": true
    },
    "kernelspec": {
      "name": "python3",
      "display_name": "Python 3"
    },
    "language_info": {
      "name": "python"
    }
  },
  "cells": [
    {
      "cell_type": "markdown",
      "metadata": {
        "id": "view-in-github",
        "colab_type": "text"
      },
      "source": [
        "<a href=\"https://colab.research.google.com/github/dipalishinde112003/Dipali_Shinde/blob/main/Untitled5.ipynb\" target=\"_parent\"><img src=\"https://colab.research.google.com/assets/colab-badge.svg\" alt=\"Open In Colab\"/></a>"
      ]
    },
    {
      "cell_type": "code",
      "execution_count": 9,
      "metadata": {
        "colab": {
          "base_uri": "https://localhost:8080/"
        },
        "id": "T4vTgCihriWK",
        "outputId": "3b160b1e-5fae-473b-fbe2-6121d59e1c71"
      },
      "outputs": [
        {
          "output_type": "stream",
          "name": "stdout",
          "text": [
            "Lookalike.csv generated successfully!\n"
          ]
        }
      ],
      "source": [
        "import pandas as pd\n",
        "from sklearn.preprocessing import OneHotEncoder, StandardScaler\n",
        "from sklearn.metrics.pairwise import cosine_similarity\n",
        "\n",
        "# Step 1: Load the datasets\n",
        "customer_data = pd.read_csv(\"Customers.csv\")\n",
        "product_data = pd.read_csv(\"Products.csv\")\n",
        "transaction_data = pd.read_csv(\"Transactions.csv\")\n",
        "\n",
        "# Step 2: Preprocessing\n",
        "# One-hot encode 'Region'\n",
        "encoder = OneHotEncoder(sparse_output=False)\n",
        "region_encoded = encoder.fit_transform(customer_data[['Region']])\n",
        "region_columns = encoder.get_feature_names_out(['Region'])\n",
        "\n",
        "# Convert 'SignupDate' to days since signup\n",
        "customer_data['SignupDate'] = pd.to_datetime(customer_data['SignupDate'])\n",
        "customer_data['DaysSinceSignup'] = (pd.Timestamp.now() - customer_data['SignupDate']).dt.days\n",
        "\n",
        "# Combine all features\n",
        "customer_features = pd.concat([\n",
        "    customer_data[['CustomerID', 'CustomerName']],\n",
        "    pd.DataFrame(region_encoded, columns=region_columns),\n",
        "    customer_data[['DaysSinceSignup']]\n",
        "], axis=1)\n",
        "\n",
        "# Step 3: Normalize features\n",
        "scaler = StandardScaler()\n",
        "normalized_features = scaler.fit_transform(customer_features.iloc[:, 2:])  # Exclude CustomerID and CustomerName\n",
        "\n",
        "# Step 4: Compute similarity\n",
        "similarity_matrix = cosine_similarity(normalized_features)\n",
        "\n",
        "# Step 5: Find top 3 similar customers for each customer\n",
        "lookalike_map = {}\n",
        "for i, customer_id in enumerate(customer_features['CustomerID']):\n",
        "    # Get similarity scores for the current customer\n",
        "    similarity_scores = list(enumerate(similarity_matrix[i]))\n",
        "\n",
        "    # Exclude self-similarity and sort by score\n",
        "    similar_customers = sorted(\n",
        "        [score for score in similarity_scores if score[0] != i],\n",
        "        key=lambda x: x[1], reverse=True\n",
        "    )[:3]\n",
        "\n",
        "    # Map customer ID to similar customers and their scores\n",
        "    lookalike_map[customer_id] = [\n",
        "        (customer_features['CustomerID'].iloc[similar[0]], round(similar[1], 4))\n",
        "        for similar in similar_customers\n",
        "    ]\n",
        "\n",
        "# Step 6: Create Lookalike.csv\n",
        "lookalike_df = pd.DataFrame([\n",
        "    {'CustomerID': cust_id, 'Lookalikes': lookalike_map[cust_id]}\n",
        "    for cust_id in customer_features['CustomerID'][:20]\n",
        "])\n",
        "\n",
        "lookalike_df.to_csv('Lookalike.csv', index=False)\n",
        "print(\"Lookalike.csv generated successfully!\")\n"
      ]
    },
    {
      "cell_type": "code",
      "source": [],
      "metadata": {
        "id": "deSZoyc-wYVf"
      },
      "execution_count": null,
      "outputs": []
    }
  ]
}